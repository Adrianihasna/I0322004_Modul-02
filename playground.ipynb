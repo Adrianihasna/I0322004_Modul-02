{
 "cells": [
  {
   "attachments": {},
   "cell_type": "markdown",
   "metadata": {},
   "source": [
    "# Tipe Data"
   ]
  },
  {
   "attachments": {},
   "cell_type": "markdown",
   "metadata": {},
   "source": [
    "## Numerik"
   ]
  },
  {
   "attachments": {},
   "cell_type": "markdown",
   "metadata": {},
   "source": [
    "### Integer\n"
   ]
  },
  {
   "cell_type": "code",
   "execution_count": 1,
   "metadata": {},
   "outputs": [
    {
     "name": "stdout",
     "output_type": "stream",
     "text": [
      "15\n",
      "5\n"
     ]
    }
   ],
   "source": [
    "a = 10\n",
    "b = 5\n",
    "print(a + b)\n",
    "print(a - b)"
   ]
  },
  {
   "cell_type": "code",
   "execution_count": 3,
   "metadata": {},
   "outputs": [
    {
     "name": "stdout",
     "output_type": "stream",
     "text": [
      "Too high\n",
      "Too high\n"
     ]
    }
   ],
   "source": [
    "x = 10\n",
    "\n",
    "user = int(input(\"Enter a number: \"))\n",
    "while user != x:\n",
    "    if user > x:\n",
    "        print(\"Too high\")\n",
    "    elif user < x:\n",
    "        print(\"Too low\")\n",
    "    else:\n",
    "        print(\"Number correct\")\n",
    "    user = int(input(\"Enter a number: \"))"
   ]
  },
  {
   "cell_type": "code",
   "execution_count": null,
   "metadata": {},
   "outputs": [],
   "source": [
    "# challenge\n",
    "# ganti __ pada value atau variabel dengan angka yg benar supaya menghasilkan output yg diharapkan\n",
    "x = __\n",
    "y = 3\n",
    "print(f\"{x} pangkat {__} = {x ** y}\") # output seharusnya 1000\n"
   ]
  },
  {
   "attachments": {},
   "cell_type": "markdown",
   "metadata": {},
   "source": [
    "### Float\n"
   ]
  },
  {
   "cell_type": "code",
   "execution_count": 6,
   "metadata": {},
   "outputs": [
    {
     "name": "stdout",
     "output_type": "stream",
     "text": [
      "harga total adalah 26500.0 ribu rupiah\n"
     ]
    }
   ],
   "source": [
    "mie_iblis = 13.5\n",
    "udang_keju = 13\n",
    "\n",
    "print(\"harga total adalah {} ribu rupiah\".format((mie_iblis + udang_keju)*1000))"
   ]
  },
  {
   "cell_type": "code",
   "execution_count": 12,
   "metadata": {},
   "outputs": [
    {
     "name": "stdout",
     "output_type": "stream",
     "text": [
      "x ceil = 121.57\n"
     ]
    }
   ],
   "source": [
    "x = 121.5689\n",
    "# dibulatkan ke atas\n",
    "print(\"x ceil = {:.2f}\".format(x))"
   ]
  },
  {
   "cell_type": "code",
   "execution_count": 15,
   "metadata": {},
   "outputs": [
    {
     "name": "stdout",
     "output_type": "stream",
     "text": [
      "x + y = (120, 5, 120, 5)\n"
     ]
    }
   ],
   "source": [
    "# challenge 2\n",
    "# ubah value\n",
    "x = 120,5\n",
    "y = 120,5\n",
    "print(f\"x + y = {x + y}\") # x + y should be 241"
   ]
  },
  {
   "attachments": {},
   "cell_type": "markdown",
   "metadata": {},
   "source": [
    "### Complex"
   ]
  }
 ],
 "metadata": {
  "kernelspec": {
   "display_name": "Python 3",
   "language": "python",
   "name": "python3"
  },
  "language_info": {
   "codemirror_mode": {
    "name": "ipython",
    "version": 3
   },
   "file_extension": ".py",
   "mimetype": "text/x-python",
   "name": "python",
   "nbconvert_exporter": "python",
   "pygments_lexer": "ipython3",
   "version": "3.9.0"
  },
  "orig_nbformat": 4,
  "vscode": {
   "interpreter": {
    "hash": "5addf786bcd861d1ce5006f23111f8cbb206731e5b61b0a5632ba9e0252558a8"
   }
  }
 },
 "nbformat": 4,
 "nbformat_minor": 2
}
